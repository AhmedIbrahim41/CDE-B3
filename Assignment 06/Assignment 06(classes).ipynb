{
 "cells": [
  {
   "cell_type": "markdown",
   "id": "65e90697-0c29-4a9c-b05e-41587188b7c7",
   "metadata": {},
   "source": [
    "### 1.Write a Python program to create a class representing a Circle. Include methods to calculate its area and perimeter."
   ]
  },
  {
   "cell_type": "code",
   "execution_count": 13,
   "id": "75219224-f122-4d09-bc47-98bdc43b9452",
   "metadata": {},
   "outputs": [],
   "source": [
    "import math\n",
    "class Circle:\n",
    "    def __init__(self):\n",
    "        pass\n",
    "\n",
    "    def area(self,radius):\n",
    "        print(f\"the Area of circle = {math.pi * (radius**2)}\")\n",
    "    def perimeter(self,radius):\n",
    "        print(f\"the Perimeter of circle = {2 * math.pi * radius}\")"
   ]
  },
  {
   "cell_type": "code",
   "execution_count": 14,
   "id": "daf55ac1-cadb-490b-8df0-d658b54b7b13",
   "metadata": {},
   "outputs": [],
   "source": [
    "circle_obj = Circle()"
   ]
  },
  {
   "cell_type": "code",
   "execution_count": 15,
   "id": "56eb2390-b5fa-4f51-a480-5f57c89589af",
   "metadata": {},
   "outputs": [
    {
     "name": "stdout",
     "output_type": "stream",
     "text": [
      "the Area of circle = 113.09733552923255\n"
     ]
    }
   ],
   "source": [
    "circle_obj.area(6)"
   ]
  },
  {
   "cell_type": "code",
   "execution_count": 16,
   "id": "5c89ee81-71e3-407f-b586-bd2c44488a3a",
   "metadata": {},
   "outputs": [
    {
     "name": "stdout",
     "output_type": "stream",
     "text": [
      "the Perimeter of circle = 18.84955592153876\n"
     ]
    }
   ],
   "source": [
    "circle_obj.perimeter(3)"
   ]
  },
  {
   "cell_type": "markdown",
   "id": "2c3ffb4c-8fad-4475-b4cc-5655b3ab312e",
   "metadata": {},
   "source": [
    "### 2.Write a Python program to create a person class. Include attributes like name, country and date of birth. Implement a method to determine the person's age.\n"
   ]
  },
  {
   "cell_type": "code",
   "execution_count": 25,
   "id": "c2669efb-4a75-4d4d-b3f0-62f7c55017c8",
   "metadata": {},
   "outputs": [],
   "source": [
    "import datetime\n",
    "from dateutil.relativedelta import relativedelta\n",
    "\n",
    "class person:\n",
    "    def __init__(self,name,country,DOB):\n",
    "        self.name = name\n",
    "        self.country = country\n",
    "        self.DOB =  datetime.datetime.strptime(DOB, \"%d/%m/%Y\").date()\n",
    "\n",
    "    def age(self):\n",
    "        today = datetime.date.today()\n",
    "        diff = relativedelta(today, self.DOB)\n",
    "        print(f\"The Age of {self.name} is {diff.years} years\")"
   ]
  },
  {
   "cell_type": "code",
   "execution_count": 26,
   "id": "e188e80d-c3b0-4151-b85d-8215f9281747",
   "metadata": {},
   "outputs": [],
   "source": [
    "person_obj = person(\"Ahmed\",\"Pakistan\",\"15/07/2007\")"
   ]
  },
  {
   "cell_type": "code",
   "execution_count": 27,
   "id": "489a6003-e783-4398-8a12-930d5afb06ad",
   "metadata": {},
   "outputs": [
    {
     "name": "stdout",
     "output_type": "stream",
     "text": [
      "The Age of Ahmed is 18 years\n"
     ]
    }
   ],
   "source": [
    "person_obj.age()"
   ]
  },
  {
   "cell_type": "markdown",
   "id": "fb98c2c0-7b61-4009-a282-c448b61ca7bd",
   "metadata": {},
   "source": [
    "### 3.Write a Python program to create a calculator class. Include methods for basic arithmetic operations.\n"
   ]
  },
  {
   "cell_type": "code",
   "execution_count": 31,
   "id": "24a7746c-87f6-49d6-a583-133c4fa851b7",
   "metadata": {},
   "outputs": [],
   "source": [
    "class Calculator:\n",
    "    def __init__(self,num1,num2):\n",
    "        self.num1 = num1\n",
    "        self.num2 = num2\n",
    "\n",
    "    def add(self):\n",
    "        print(f\"The Addition of {self.num1} and {self.num2} = {self.num1 + self.num2}\")\n",
    "    def subtract(self):\n",
    "        print(f\"The subtraction of {self.num1} and {self.num2} = {self.num1 - self.num2}\")\n",
    "    def multiply(self):\n",
    "        print(f\"The Multiplication of {self.num1} and {self.num2} = {self.num1 * self.num2}\")\n",
    "    def divide(self):\n",
    "        print(f\"The Division of {self.num1} and {self.num2} = {self.num1 / self.num2}\")\n",
    "    "
   ]
  },
  {
   "cell_type": "code",
   "execution_count": 32,
   "id": "193653db-9f50-422a-9608-1c4d859e768c",
   "metadata": {},
   "outputs": [],
   "source": [
    "cal_obj = Calculator(3,7)"
   ]
  },
  {
   "cell_type": "code",
   "execution_count": 33,
   "id": "84cade4b-f60a-496d-a64c-1857818225c9",
   "metadata": {},
   "outputs": [
    {
     "name": "stdout",
     "output_type": "stream",
     "text": [
      "The Addition of 3 and 7 = 10\n",
      "The subtraction of 3 and 7 = -4\n",
      "The Multiplication of 3 and 7 = 21\n",
      "The Division of 3 and 7 = 0.42857142857142855\n"
     ]
    }
   ],
   "source": [
    "cal_obj.add()\n",
    "cal_obj.subtract()\n",
    "cal_obj.multiply()\n",
    "cal_obj.divide()"
   ]
  },
  {
   "cell_type": "code",
   "execution_count": null,
   "id": "f071aa80-2c48-41c7-a327-15e16aa86ea7",
   "metadata": {},
   "outputs": [],
   "source": []
  }
 ],
 "metadata": {
  "kernelspec": {
   "display_name": "Python [conda env:base] *",
   "language": "python",
   "name": "conda-base-py"
  },
  "language_info": {
   "codemirror_mode": {
    "name": "ipython",
    "version": 3
   },
   "file_extension": ".py",
   "mimetype": "text/x-python",
   "name": "python",
   "nbconvert_exporter": "python",
   "pygments_lexer": "ipython3",
   "version": "3.13.5"
  }
 },
 "nbformat": 4,
 "nbformat_minor": 5
}
