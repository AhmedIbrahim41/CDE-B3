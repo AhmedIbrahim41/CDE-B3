{
 "cells": [
  {
   "cell_type": "markdown",
   "id": "265c0a88-1566-4b5f-819f-844a604242e9",
   "metadata": {},
   "source": [
    "# Part -1 Python Basics (Variables)"
   ]
  },
  {
   "cell_type": "markdown",
   "id": "c65c2d26-c0e6-48ee-afc4-3288c5593394",
   "metadata": {},
   "source": [
    "### 1.Print Your Name with your Father name and Date of birth using suitable escape sequence charactor"
   ]
  },
  {
   "cell_type": "code",
   "execution_count": 1,
   "id": "1b5298a4-364e-4a77-aa32-fdb6841d9730",
   "metadata": {},
   "outputs": [
    {
     "name": "stdout",
     "output_type": "stream",
     "text": [
      " My name is Abdur Rehman \n",
      " My Father name is Tufail Ahmed \n",
      " My Date Of Birth is 05-02-2007\n"
     ]
    }
   ],
   "source": [
    "my_name = \"Abdur Rehman\"\n",
    "father_name = \"Tufail Ahmed\"\n",
    "DOB = \"05-02-2007\"\n",
    "print(f\" My name is {my_name} \\n My Father name is {father_name} \\n My Date Of Birth is {DOB}\")"
   ]
  },
  {
   "cell_type": "markdown",
   "id": "ce5520e6-208f-4f86-addf-19873c9f74c7",
   "metadata": {},
   "source": [
    "### 2.Write your small bio using variables and print it using print function"
   ]
  },
  {
   "cell_type": "code",
   "execution_count": 2,
   "id": "d7a2f527-797f-4b5f-bd56-48690f58d95f",
   "metadata": {},
   "outputs": [
    {
     "name": "stdout",
     "output_type": "stream",
     "text": [
      " My name is Abdur Rehman. My Father name is Tufail Ahmed. My Date Of Birth is 05-02-2007\n"
     ]
    }
   ],
   "source": [
    "my_name = \"Abdur Rehman\"\n",
    "father_name = \"Tufail Ahmed\"\n",
    "DOB = \"05-02-2007\"\n",
    "bio = (f\" My name is {my_name}. My Father name is {father_name}. My Date Of Birth is {DOB}\")\n",
    "print(bio)"
   ]
  },
  {
   "cell_type": "markdown",
   "id": "232be7b1-a801-412e-8b2b-fc3367a809d9",
   "metadata": {},
   "source": [
    "### 3.Write a program in which use all the operators we can use in Python"
   ]
  },
  {
   "cell_type": "code",
   "execution_count": 3,
   "id": "7bdb4e5d-ce99-4d2a-96c3-e185b9bfadc5",
   "metadata": {},
   "outputs": [
    {
     "name": "stdout",
     "output_type": "stream",
     "text": [
      "8 -4 48 1.6 3 3 16384\n"
     ]
    }
   ],
   "source": [
    "x = 3 + 5\n",
    "y = 5 - 9\n",
    "z = 6 * 8\n",
    "l = 8 / 5\n",
    "m = 3 % 9\n",
    "n = 7 // 2\n",
    "k = 4**7\n",
    "print(x,y,z,l,m,n,k)"
   ]
  },
  {
   "cell_type": "markdown",
   "id": "0bb43248-aa7e-4cf3-84f6-69d6eeeeffa2",
   "metadata": {},
   "source": [
    "### 4.Completes the following steps of small task:\n",
    "- Mention Marks of English , Islamiat and Maths out of 100 in 3 different variables\n",
    "- Mention Variable of Total Marks and assign 300 to it\n",
    "- Calculate Percentage"
   ]
  },
  {
   "cell_type": "code",
   "execution_count": 4,
   "id": "c2de6d59-45d5-41e1-acf3-176ef0eb6a4d",
   "metadata": {},
   "outputs": [
    {
     "name": "stdout",
     "output_type": "stream",
     "text": [
      "72.33333333333334\n"
     ]
    }
   ],
   "source": [
    "English = 70\n",
    "Islamiat = 82\n",
    "Maths = 65\n",
    "total_marks = 300\n",
    "obtain_marks = English + Islamiat + Maths\n",
    "Percentage = (obtain_marks/total_marks)*100\n",
    "print(Percentage)\n"
   ]
  },
  {
   "cell_type": "markdown",
   "id": "a9027eb2-4883-4115-9ab6-ae8207628750",
   "metadata": {},
   "source": [
    "# Part -2 Python Basics (Conditional Statements)"
   ]
  },
  {
   "cell_type": "markdown",
   "id": "a988f78a-2fc5-432c-bc51-3c95b2df2fde",
   "metadata": {},
   "source": [
    "### 1. A company decided to give bonus of 5% to employee if his/her year of service is more than 5 years. Ask user for their salary and year of service and print the net bonus amount."
   ]
  },
  {
   "cell_type": "code",
   "execution_count": 5,
   "id": "2de878bb-57e2-43e5-beb8-a6b4fe9c98ec",
   "metadata": {},
   "outputs": [
    {
     "name": "stdin",
     "output_type": "stream",
     "text": [
      "How much is your salary : 80500\n",
      "How many years you serving here :  8\n"
     ]
    },
    {
     "name": "stdout",
     "output_type": "stream",
     "text": [
      "4025.0\n"
     ]
    }
   ],
   "source": [
    "salary = int(input(\"How much is your salary :\"))\n",
    "service = int(input(\"How many years you serving here : \"))\n",
    "\n",
    "if (service>5):\n",
    "    bonus_amount = salary * 0.05\n",
    "    print(bonus_amount)\n",
    "else :\n",
    "    print(\"You are not eligible\")\n"
   ]
  },
  {
   "cell_type": "markdown",
   "id": "251e73dc-bd93-4f95-afc3-e5cf144366a0",
   "metadata": {},
   "source": [
    "### 2. Write a program to check whether a person is eligible for voting or not. (accept age from user) if age is greater than 17 eligible otherwise not eligible"
   ]
  },
  {
   "cell_type": "code",
   "execution_count": 6,
   "id": "170e6140-51ba-4431-a8fc-12ed59c0a671",
   "metadata": {},
   "outputs": [
    {
     "name": "stdin",
     "output_type": "stream",
     "text": [
      "Enter your age : 28\n"
     ]
    },
    {
     "name": "stdout",
     "output_type": "stream",
     "text": [
      "You are Eligible for Vote\n"
     ]
    }
   ],
   "source": [
    "age = int(input(\"Enter your age :\"))\n",
    "if age > 17 :\n",
    "    print(\"You are Eligible for Vote\")\n",
    "else :\n",
    "    print(\"You are not Eligible Vote\")"
   ]
  },
  {
   "cell_type": "markdown",
   "id": "3405411e-a6f9-45be-9804-8219a205dbbb",
   "metadata": {},
   "source": [
    "### 3. Write a program to check whether a number entered by user is even or odd."
   ]
  },
  {
   "cell_type": "code",
   "execution_count": 7,
   "id": "9bba8e47-4211-4cb2-8dc7-378dff404fb9",
   "metadata": {},
   "outputs": [
    {
     "name": "stdin",
     "output_type": "stream",
     "text": [
      "Enter the Number : 55\n"
     ]
    },
    {
     "name": "stdout",
     "output_type": "stream",
     "text": [
      "Odd\n"
     ]
    }
   ],
   "source": [
    "number = int(input(\"Enter the Number :\"))\n",
    "if number  %2==0 :\n",
    "    print(\"Even\")\n",
    "else :\n",
    "    print(\"Odd\")"
   ]
  },
  {
   "cell_type": "markdown",
   "id": "a0e84fff-abd4-4a8b-978f-98338f503938",
   "metadata": {},
   "source": [
    "### 4. Write a program to check whether a number is divisible by 7 or not. Show Answer"
   ]
  },
  {
   "cell_type": "code",
   "execution_count": 11,
   "id": "a2573c94-dbe5-40c7-9859-49aae064e93e",
   "metadata": {},
   "outputs": [
    {
     "name": "stdin",
     "output_type": "stream",
     "text": [
      "Enter the number: 77\n"
     ]
    },
    {
     "name": "stdout",
     "output_type": "stream",
     "text": [
      "Number is Divisible by 7\n"
     ]
    }
   ],
   "source": [
    "number = int(input(\"Enter the number:\"))\n",
    "\n",
    "if (number %7 == 0):\n",
    "    print(\"Number is Divisible by 7\")\n",
    "else :\n",
    "    print(\"It's not Divisible by 7\")"
   ]
  },
  {
   "cell_type": "markdown",
   "id": "8943d096-f9e5-4e4b-a132-37c1fbbec106",
   "metadata": {},
   "source": [
    "### 5. Write a program to display \"Hello\" if a number entered by user is a multiple of five , otherwise print \"Bye\"."
   ]
  },
  {
   "cell_type": "code",
   "execution_count": 10,
   "id": "b706534e-e23f-4f06-985a-339af5556dc5",
   "metadata": {},
   "outputs": [
    {
     "name": "stdin",
     "output_type": "stream",
     "text": [
      "Enter the number: 67\n"
     ]
    },
    {
     "name": "stdout",
     "output_type": "stream",
     "text": [
      "Bye!\n"
     ]
    }
   ],
   "source": [
    "num = int(input(\"Enter the number:\"))\n",
    "\n",
    "if (num %5 == 0) :\n",
    "    print(\"Hello!\")\n",
    "else :\n",
    "    print(\"Bye!\")"
   ]
  },
  {
   "cell_type": "markdown",
   "id": "e432cfbd-0605-4a68-8319-f1681f48b5a7",
   "metadata": {},
   "source": [
    "### 6. Write a program to display the last digit of a number."
   ]
  },
  {
   "cell_type": "code",
   "execution_count": 12,
   "id": "fb9cfa66-b801-4010-8b33-8a706a1b2840",
   "metadata": {},
   "outputs": [
    {
     "name": "stdin",
     "output_type": "stream",
     "text": [
      "Enter a Number: 8765\n"
     ]
    },
    {
     "name": "stdout",
     "output_type": "stream",
     "text": [
      "5\n"
     ]
    }
   ],
   "source": [
    "number = int(input(\"Enter a Number:\"))\n",
    "last_digit = number % 10\n",
    "print(last_digit)"
   ]
  },
  {
   "cell_type": "markdown",
   "id": "0493caa1-55f2-4ed7-8170-f53ab0fb27f2",
   "metadata": {},
   "source": [
    "### 7. Take values of length and breadth of a rectangle from user and print if it is square or rectangle."
   ]
  },
  {
   "cell_type": "code",
   "execution_count": 13,
   "id": "f3a06314-6927-432c-9fb5-e8ae6c226267",
   "metadata": {},
   "outputs": [
    {
     "name": "stdin",
     "output_type": "stream",
     "text": [
      "Enter the length : 88\n",
      "Enter the breadth : 56\n"
     ]
    },
    {
     "name": "stdout",
     "output_type": "stream",
     "text": [
      "It's Reactangle\n"
     ]
    }
   ],
   "source": [
    "length = int(input(\"Enter the length :\"))\n",
    "breadth = int(input(\"Enter the breadth :\"))\n",
    "\n",
    "if (length == breadth) :\n",
    "    print(\"It's Square\")\n",
    "else :\n",
    "    print(\"It's Reactangle\")"
   ]
  },
  {
   "cell_type": "markdown",
   "id": "2271d4fe-0830-4b03-bb6f-fe1bf1664149",
   "metadata": {},
   "source": [
    "### 8. Take two int values from user and print greatest among them."
   ]
  },
  {
   "cell_type": "code",
   "execution_count": 15,
   "id": "1a1b0c9f-8c72-48f3-941a-130adfccfcf5",
   "metadata": {},
   "outputs": [
    {
     "name": "stdin",
     "output_type": "stream",
     "text": [
      "Enter the Number : 55\n",
      "Enter the Number : 78\n"
     ]
    },
    {
     "name": "stdout",
     "output_type": "stream",
     "text": [
      "y is greater than x\n"
     ]
    }
   ],
   "source": [
    "x = int(input(\"Enter the Number :\"))\n",
    "y = int(input(\"Enter the Number :\"))\n",
    "\n",
    "if (x>y) :\n",
    "    print(\"x is greater than y\")\n",
    "else :\n",
    "    print(\"y is greater than x\")"
   ]
  },
  {
   "cell_type": "markdown",
   "id": "6a6dcd34-bcbd-47b9-af65-ccc7ab4f50e4",
   "metadata": {},
   "source": [
    "### 9. A shop will give discount of 10% if the cost of purchased quantity is more than 1000. Ask user for quantity Suppose, one unit will cost 100. Judge and print total cost for user."
   ]
  },
  {
   "cell_type": "code",
   "execution_count": 20,
   "id": "3ad60e26-f306-479b-b086-13e6149f79b7",
   "metadata": {},
   "outputs": [
    {
     "name": "stdin",
     "output_type": "stream",
     "text": [
      "Enter Your QTY : 9\n"
     ]
    },
    {
     "name": "stdout",
     "output_type": "stream",
     "text": [
      "You Are Not Eligible For Discount\n"
     ]
    }
   ],
   "source": [
    "purchased_qty = int(input(\"Enter Your QTY :\"))\n",
    "purchased_cost = purchased_qty * 100\n",
    "if (purchased_cost > 1000) :\n",
    "    discount = purchased_cost * 0.1\n",
    "    total_cost = purchased_cost - discount\n",
    "    print(total_cost)\n",
    "else :\n",
    "    print(\"You are not eligible for discount\".title())"
   ]
  },
  {
   "cell_type": "markdown",
   "id": "c5a6d1c4-c6d4-4898-8bed-8982cfb7e796",
   "metadata": {},
   "source": [
    "### 10. A school has following rules for grading system:\n",
    "a. Below 25 - F\n",
    "\n",
    "b. 25 to 45 - E\n",
    "\n",
    "c. 45 to 50 - D\n",
    "\n",
    "d. 50 to 60 - C\n",
    "\n",
    "e. 60 to 80 - B\n",
    "\n",
    "f. Above 80 - A\n",
    "\n",
    "Ask user to enter marks and print the corresponding grade."
   ]
  },
  {
   "cell_type": "code",
   "execution_count": 23,
   "id": "ff1ca1fc-281a-4900-b886-ab3bc2cf76fe",
   "metadata": {},
   "outputs": [
    {
     "name": "stdin",
     "output_type": "stream",
     "text": [
      "Enter your Marks : 82\n"
     ]
    },
    {
     "name": "stdout",
     "output_type": "stream",
     "text": [
      "Your Grade is A\n"
     ]
    }
   ],
   "source": [
    "marks = int(input(\"Enter your Marks :\"))\n",
    "\n",
    "if (marks <=25) :\n",
    "    print(\"Your Grade is F\")\n",
    "elif (marks <= 45) :\n",
    "    print(\"Your Grade is E\")\n",
    "elif (marks <= 50) :\n",
    "    print(\"Your Grade is D\")\n",
    "elif (marks <= 60) :\n",
    "    print(\"Your Grade is C\")\n",
    "elif (marks <= 80) :\n",
    "    print(\"Your Grade is B\")\n",
    "elif (marks >= 80) :\n",
    "    print(\"Your Grade is A\")\n",
    "else :\n",
    "    print(\"unknown\")"
   ]
  },
  {
   "cell_type": "markdown",
   "id": "1011861b-6118-4c35-946b-94ed3beaa114",
   "metadata": {},
   "source": [
    "### 11. A student will not be allowed to sit in exam if his/her attendence is less than 75%.\n",
    "\n",
    "Take following input from user\n",
    "\n",
    "Number of classes held\n",
    "\n",
    "Number of classes attended.\n",
    "\n",
    "And print\n",
    "\n",
    "percentage of class attended\n",
    "\n",
    "Is student is allowed to sit in exam or not."
   ]
  },
  {
   "cell_type": "code",
   "execution_count": 32,
   "id": "2a1446ec-ee1c-406e-bafc-55fa2b6d91f2",
   "metadata": {},
   "outputs": [
    {
     "name": "stdin",
     "output_type": "stream",
     "text": [
      "Enter How many classes you attended: 22\n"
     ]
    },
    {
     "name": "stdout",
     "output_type": "stream",
     "text": [
      "You are allowed to sit in Exam\n"
     ]
    }
   ],
   "source": [
    "classes_attend = int(input(\"Enter How many classes you attended:\"))\n",
    "total_classes = 28\n",
    "percentage = (classes_attend/total_classes)*100\n",
    "\n",
    "if (percentage > 75) :\n",
    "    print(\"You are allowed to sit in Exam\")\n",
    "else :\n",
    "    print(\"You are not allowed to sit in Exam\")"
   ]
  },
  {
   "cell_type": "markdown",
   "id": "2899b678-caaf-43d3-a28f-f83e15288bb5",
   "metadata": {},
   "source": [
    "### 12. Modify the above question to allow student to sit if he/she has medical cause. Ask user if he/she has medical cause or not ( 'Y' or 'N' ) and print accordingly."
   ]
  },
  {
   "cell_type": "code",
   "execution_count": 38,
   "id": "b0a56151-8106-4648-9fbd-39737017c126",
   "metadata": {},
   "outputs": [
    {
     "name": "stdin",
     "output_type": "stream",
     "text": [
      "Enter How many classes you attended: 14\n",
      "Enter if any Medical Cause ('y' or 'n'): y\n"
     ]
    },
    {
     "name": "stdout",
     "output_type": "stream",
     "text": [
      "You are allowed to sit in Exam\n"
     ]
    }
   ],
   "source": [
    "classes_attend = int(input(\"Enter How many classes you attended:\"))\n",
    "medical_cause = input(\"Enter if any Medical Cause ('y' or 'n'):\")\n",
    "total_classes = 28\n",
    "percentage = (classes_attend/total_classes)*100\n",
    "\n",
    "if (percentage >= 75) :\n",
    "    print(\"You are allowed to sit in Exam\")\n",
    "elif (medical_cause == \"y\"):\n",
    "    print(\"You are allowed to sit in Exam\")\n",
    "else :\n",
    "    print(\"You are not allowed to sit in Exam\")"
   ]
  },
  {
   "cell_type": "markdown",
   "id": "9e2da136-ad86-4f9b-a367-715dc52a1826",
   "metadata": {},
   "source": [
    "### 13.Write a program to check if a year is leap year or not.\n",
    "If a year is divisible by 4 then it is leap year but if the year is century year like 2000, 1900, 2100 then it must be divisible by 400."
   ]
  },
  {
   "cell_type": "code",
   "execution_count": null,
   "id": "5963e329-b3e7-4896-99ec-c24eb0fd43b9",
   "metadata": {},
   "outputs": [],
   "source": []
  }
 ],
 "metadata": {
  "kernelspec": {
   "display_name": "Python [conda env:base] *",
   "language": "python",
   "name": "conda-base-py"
  },
  "language_info": {
   "codemirror_mode": {
    "name": "ipython",
    "version": 3
   },
   "file_extension": ".py",
   "mimetype": "text/x-python",
   "name": "python",
   "nbconvert_exporter": "python",
   "pygments_lexer": "ipython3",
   "version": "3.12.7"
  }
 },
 "nbformat": 4,
 "nbformat_minor": 5
}
